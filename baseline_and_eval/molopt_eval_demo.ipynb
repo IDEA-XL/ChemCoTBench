{
 "cells": [
  {
   "cell_type": "code",
   "execution_count": 3,
   "metadata": {},
   "outputs": [
    {
     "name": "stdout",
     "output_type": "stream",
     "text": [
      "success\n"
     ]
    }
   ],
   "source": [
    "import json\n",
    "from eval.eval_molopt import eval_molopt_from_list\n",
    "print(\"success\")\n",
    "    "
   ]
  },
  {
   "cell_type": "code",
   "execution_count": 5,
   "metadata": {},
   "outputs": [
    {
     "name": "stdout",
     "output_type": "stream",
     "text": [
      "claude3.7 logp\n",
      "100 0 100\n"
     ]
    },
    {
     "name": "stderr",
     "output_type": "stream",
     "text": [
      "Downloading Oracle...\n",
      "100%|██████████| 9.05M/9.05M [00:03<00:00, 2.41MiB/s]\n",
      "Done!\n"
     ]
    },
    {
     "name": "stdout",
     "output_type": "stream",
     "text": [
      "claude3.7 solubility\n",
      "100 0 100\n",
      "claude3.7 qed\n",
      "100 0 100\n"
     ]
    },
    {
     "name": "stderr",
     "output_type": "stream",
     "text": [
      "Downloading Oracle...\n"
     ]
    },
    {
     "name": "stdout",
     "output_type": "stream",
     "text": [
      "claude3.7 drd\n",
      "100 4 96\n"
     ]
    },
    {
     "name": "stderr",
     "output_type": "stream",
     "text": [
      "100%|██████████| 35.4M/35.4M [00:15<00:00, 2.30MiB/s]\n",
      "Done!\n",
      "Downloading Oracle...\n"
     ]
    },
    {
     "name": "stdout",
     "output_type": "stream",
     "text": [
      "claude3.7 jnk\n",
      "100 0 100\n"
     ]
    },
    {
     "name": "stderr",
     "output_type": "stream",
     "text": [
      "100%|██████████| 10.9M/10.9M [00:05<00:00, 1.94MiB/s]\n",
      "Done!\n",
      "Downloading Oracle...\n"
     ]
    },
    {
     "name": "stdout",
     "output_type": "stream",
     "text": [
      "claude3.7 gsk\n",
      "100 2 98\n"
     ]
    },
    {
     "name": "stderr",
     "output_type": "stream",
     "text": [
      "100%|██████████| 27.8M/27.8M [00:11<00:00, 2.34MiB/s]\n",
      "Done!\n"
     ]
    },
    {
     "name": "stdout",
     "output_type": "stream",
     "text": [
      "eval_score_claude3.7 {'logp': {'improvement': {'mean': 0.4069006780846787, 'variance': 0.21206145544050284, 'min': -0.21740861942726167, 'max': 1.4166426591449985, 'success_rate': 0.8, 'best_rate': 0.32, 'valid_smiles_rate': 0.99, 'valid_score_rate': 0.99, 'valid_smiles_extract_rate': 1.0}, 'scaffold': {'hard': 0.72, 'soft': 0.9038459342980477}}, 'solubility': {'improvement': {'mean': 0.3705101410563746, 'variance': 0.2923881924941273, 'min': -0.6028324228643849, 'max': 1.4974010988486226, 'success_rate': 0.75, 'best_rate': 0.32, 'valid_smiles_rate': 0.92, 'valid_score_rate': 0.92, 'valid_smiles_extract_rate': 1.0}, 'scaffold': {'hard': 0.79, 'soft': 0.8783154572632265}}, 'qed': {'improvement': {'mean': 0.11797018528900438, 'variance': 0.017880429209160168, 'min': -0.07652908388710614, 'max': 0.346179682568043, 'success_rate': 0.73, 'best_rate': 0.14, 'valid_smiles_rate': 0.94, 'valid_score_rate': 0.94, 'valid_smiles_extract_rate': 1.0}, 'scaffold': {'hard': 0.66, 'soft': 0.818949146508879}}, 'drd': {'improvement': {'mean': 0.17386917381610714, 'variance': 0.06829569132812695, 'min': -0.08821241369406954, 'max': 0.7613467215585096, 'success_rate': 0.63, 'best_rate': 0.29, 'valid_smiles_rate': 0.95, 'valid_score_rate': 0.95, 'valid_smiles_extract_rate': 0.96}, 'scaffold': {'hard': 0.65, 'soft': 0.8210760262639147}}, 'jnk': {'improvement': {'mean': 0.006074999999999997, 'variance': 0.0025011068750000003, 'min': -0.10050000000000003, 'max': 0.11999999999999997, 'success_rate': 0.49, 'best_rate': 0.02, 'valid_smiles_rate': 0.93, 'valid_score_rate': 0.93, 'valid_smiles_extract_rate': 1.0}, 'scaffold': {'hard': 0.71, 'soft': 0.8459197843874006}}, 'gsk': {'improvement': {'mean': 0.018108333333333334, 'variance': 0.0014334785416666661, 'min': -0.041, 'max': 0.11, 'success_rate': 0.57, 'best_rate': 0.01, 'valid_smiles_rate': 0.94, 'valid_score_rate': 0.94, 'valid_smiles_extract_rate': 0.98}, 'scaffold': {'hard': 0.67, 'soft': 0.828189227258781}}}\n"
     ]
    }
   ],
   "source": [
    "def tranform_str_to_json(str_input):\n",
    "    ## 假如LLM输出的是类似json的字符串, 我需要设定一个逻辑, 把字符串重新转换成json\n",
    "    ## o1-mini的感觉, 是要移除字符串里面的\\n，并且把所有的\\\"都改成 \"\n",
    "    if \"</think>\\n\\n\" in str_input:\n",
    "        str_input = str_input.split(\"</think>\\n\\n\")[-1]\n",
    "        \n",
    "    if \"```json\\n\" in str_input:\n",
    "        str_input = str_input.split(\"```json\\n\")[1]\n",
    "        str_input = str_input.replace(\"\\n```\", '')\n",
    "    \n",
    "    unescaped_str = str_input.replace('\\n    ', '').replace('\\n', '').replace('\\\"', '\"')\n",
    "    try:\n",
    "        json_obj = json.loads(unescaped_str)\n",
    "        return json_obj\n",
    "    except json.JSONDecodeError as e:\n",
    "        return None\n",
    "\n",
    "def evaluate_molopt_score(model_name=None):\n",
    "    ## 在get_molopt_cot中得到test结果, 我们评测这些test结果\n",
    "    prop_dict = dict(logp='logp', solubility='solubility', qed=\"qed\",  drd='drd2', jnk='jnk3', gsk='gsk3b')\n",
    "    # prop_dict = dict(logp='logp', solubility='solubility', qed=\"qed\",  drd='drd2', gsk='gsk3b')\n",
    "    \n",
    "    result_final = dict()\n",
    "    \n",
    "    for prop in prop_dict.keys():\n",
    "        print(model_name, prop)\n",
    "        file_name = f\"logs/{prop}/{model_name}.json\"\n",
    "        pred_results = json.load(open(file_name, \"r\"))\n",
    "        \n",
    "        tgt_smiles_list, src_smiles_list = list(), list()\n",
    "        \n",
    "        invalid_number = 0\n",
    "        final_target_key = 'Final Target Molecule'\n",
    "        \n",
    "        if model_name not in ['biomedgpt', 'biomistral']:\n",
    "            src_smiles_key =  'src_smiles'\n",
    "        else: src_smiles_key = \"src\"\n",
    "        \n",
    "        for pred in pred_results:\n",
    "            ## 提取 predicted-smiles, 如果生成的是json格式那不需要额外操作, 如果不是, 需要转换成json形式\n",
    "            if type(pred['json_results']) is str:\n",
    "                pred_json = tranform_str_to_json(str_input=pred['json_results'])\n",
    "                # if model_name == 'gemini': pred_json = pred_json[0]\n",
    "                if pred_json == None or type(pred_json) is str:\n",
    "                    invalid_number += 1\n",
    "                    continue\n",
    "                else:\n",
    "                    if final_target_key in pred_json.keys():\n",
    "                        tgt_smiles_list.append(pred_json[final_target_key])\n",
    "                        src_smiles_list.append(pred[src_smiles_key])\n",
    "            else:\n",
    "                if final_target_key in pred['json_results'].keys():\n",
    "                    tgt_smiles_list.append(pred['json_results'][final_target_key])\n",
    "                    src_smiles_list.append(pred[src_smiles_key])\n",
    "        \n",
    "        print(len(pred_results), invalid_number, len(src_smiles_list))\n",
    "        assert len(src_smiles_list) == len(tgt_smiles_list)\n",
    "        assert len(pred_results) == invalid_number + len(src_smiles_list)\n",
    "        \n",
    "        result_dict = eval_molopt_from_list(optimized_prop=prop, gt_list=src_smiles_list, pred_list=tgt_smiles_list, total_number=len(pred_results))\n",
    "        result_final[prop] = result_dict\n",
    "    \n",
    "    print(f\"eval_score_{model_name}\", result_final)\n",
    "    # json.dump(result_final, open(f\"../api_results/molopt_caohe/eval_score_{model_name}.json\", \"w\"), indent=4)\n",
    "        \n",
    "if __name__ == \"__main__\":\n",
    "    for model_name in ['claude3.7']:   # your model name\n",
    "        evaluate_molopt_score(model_name=model_name)"
   ]
  }
 ],
 "metadata": {
  "kernelspec": {
   "display_name": "mol_opt",
   "language": "python",
   "name": "python3"
  },
  "language_info": {
   "codemirror_mode": {
    "name": "ipython",
    "version": 3
   },
   "file_extension": ".py",
   "mimetype": "text/x-python",
   "name": "python",
   "nbconvert_exporter": "python",
   "pygments_lexer": "ipython3",
   "version": "3.11.11"
  }
 },
 "nbformat": 4,
 "nbformat_minor": 2
}
