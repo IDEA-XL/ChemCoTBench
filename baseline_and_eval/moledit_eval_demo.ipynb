{
 "cells": [
  {
   "cell_type": "code",
   "execution_count": 2,
   "metadata": {},
   "outputs": [
    {
     "name": "stdout",
     "output_type": "stream",
     "text": [
      "success\n"
     ]
    }
   ],
   "source": [
    "import json\n",
    "from eval.eval_moledit import eval_moledit_from_list\n",
    "from eval.eval_moledit import tranform_str_to_json\n",
    "print(\"success\")"
   ]
  },
  {
   "cell_type": "code",
   "execution_count": 3,
   "metadata": {},
   "outputs": [
    {
     "name": "stdout",
     "output_type": "stream",
     "text": [
      "claude3.7 add\n",
      "添加aldehyde失败: 目标分子中aldehyde数量为None, 源分子中aldehyde数量为0\n",
      "添加nitro失败: 目标分子中nitro数量为None, 源分子中nitro数量为0\n",
      "添加thiol失败: 目标分子中thiol数量为None, 源分子中thiol数量为0\n",
      "claude3.7 delete\n",
      "claude3.7 sub\n",
      "eval_score_claude3.7 {'add': {'correct_rate': 0.85, 'add-valid-rate': 1.0}, 'delete': {'correct_rate': 0.8421052631578947, 'delete-valid-rate': 1.0}, 'sub': {'correct_rate': 0.847457627118644, 'sub-valid-rate': 1.0}}\n"
     ]
    },
    {
     "name": "stderr",
     "output_type": "stream",
     "text": [
      "[16:08:51] Can't kekulize mol.  Unkekulized atoms: 14 15 16 17 18 19 20 21 22\n",
      "[16:08:51] Can't kekulize mol.  Unkekulized atoms: 14 15 16 17 18 19 20 21 22\n",
      "[16:08:51] Can't kekulize mol.  Unkekulized atoms: 14 15 16 17 18 19 20 21 22\n",
      "[16:08:51] Explicit valence for atom # 28 Cl, 2, is greater than permitted\n",
      "[16:08:51] Explicit valence for atom # 28 Cl, 2, is greater than permitted\n",
      "[16:08:51] Explicit valence for atom # 28 Cl, 2, is greater than permitted\n",
      "[16:08:51] Explicit valence for atom # 16 O, 3, is greater than permitted\n",
      "[16:08:51] Explicit valence for atom # 16 O, 3, is greater than permitted\n",
      "[16:08:51] Explicit valence for atom # 16 O, 3, is greater than permitted\n",
      "[16:08:51] Can't kekulize mol.  Unkekulized atoms: 14 15 16 21 22\n",
      "[16:08:51] Can't kekulize mol.  Unkekulized atoms: 14 15 16 21 22\n",
      "[16:08:51] SMILES Parse Error: ring closure 2 duplicates bond between atom 22 and atom 23 for input: 'O2N[C@H](CN1CCN(c3ccccc3F)CC1)Cn2nnnc2-c2ccccc2'\n",
      "[16:08:51] SMILES Parse Error: ring closure 2 duplicates bond between atom 22 and atom 23 for input: 'O2N[C@H](CN1CCN(c3ccccc3F)CC1)Cn2nnnc2-c2ccccc2'\n",
      "[16:08:51] SMILES Parse Error: unclosed ring for input: 'O2N(=O)CC1(COC/C=C/c2ccccc2)CCC1'\n",
      "[16:08:51] SMILES Parse Error: unclosed ring for input: 'O2N(=O)CC1(COC/C=C/c2ccccc2)CCC1'\n"
     ]
    }
   ],
   "source": [
    "def evaluate_moledit_score(model_name): \n",
    "    result_dict = dict()\n",
    "    \n",
    "    for task in ['add', 'delete', 'sub']:\n",
    "        print(model_name, task)\n",
    "        file_name = f\"logs/{task}/{model_name}.json\" \n",
    "        pred_results = json.load(open(file_name, \"r\"))\n",
    "        \n",
    "        invalid_number = 0\n",
    "        pred_list, src_list = list(), list()\n",
    "        group_a, group_b = list(), list()\n",
    "        \n",
    "        for pred in pred_results:\n",
    "            ## extract predicted-smiles, if prediction is not json format, need to change \n",
    "            if type(pred['json_results']) is str:\n",
    "                pred_json = tranform_str_to_json(str_input=pred['json_results'])\n",
    "                # if model_name == 'gemini': pred_json = pred_json[0]\n",
    "                if pred_json == None:\n",
    "                    invalid_number += 1\n",
    "                    continue\n",
    "                else:\n",
    "                    if 'output' not in pred_json.keys():\n",
    "                        invalid_number += 1; continue\n",
    "                    pred_list.append(pred_json['output'])\n",
    "                    src_list.append(pred['molecule'])\n",
    "                    if task == 'add': group_a.append(pred['added_group'])\n",
    "                    elif task == 'delete': group_a.append(pred['removed_group'])\n",
    "                    elif task == 'sub':\n",
    "                        group_a.append(pred['added_group']); group_b.append(pred['removed_group'])\n",
    "            else:\n",
    "                pred_list.append(pred['json_results']['output'])\n",
    "                src_list.append(pred['molecule'])\n",
    "                if task == 'add': group_a.append(pred['added_group'])\n",
    "                elif task == 'delete': group_a.append(pred['removed_group'])\n",
    "                elif task == 'sub':\n",
    "                    group_a.append(pred['added_group']); group_b.append(pred['removed_group'])\n",
    "        \n",
    "        assert len(src_list) == len(pred_list)\n",
    "        assert len(src_list) == len(group_a)\n",
    "        \n",
    "        result_dict[task] = eval_moledit_from_list(src_list=src_list, pred_list=pred_list, group_a=group_a, group_b=group_b, task=task, total_number=len(pred_list)) \n",
    "    \n",
    "    print(f\"eval_score_{model_name}\", result_dict)\n",
    "    # json.dump(result_dict, open(f\"logs/eval_score_{model_name}.json\", \"w\"), indent=4)\n",
    "\n",
    "\n",
    "if __name__ == \"__main__\":\n",
    "    model_list = [\"claude3.7\"]\n",
    "    for model_name in model_list:\n",
    "        evaluate_moledit_score(model_name=model_name)"
   ]
  }
 ],
 "metadata": {
  "kernelspec": {
   "display_name": "mol_opt",
   "language": "python",
   "name": "python3"
  },
  "language_info": {
   "codemirror_mode": {
    "name": "ipython",
    "version": 3
   },
   "file_extension": ".py",
   "mimetype": "text/x-python",
   "name": "python",
   "nbconvert_exporter": "python",
   "pygments_lexer": "ipython3",
   "version": "3.11.11"
  }
 },
 "nbformat": 4,
 "nbformat_minor": 2
}
